{
 "cells": [
  {
   "cell_type": "markdown",
   "metadata": {},
   "source": [
    "# Homework 1 \n",
    "## Problem 3: Who is the most central actor? (50%)"
   ]
  },
  {
   "cell_type": "markdown",
   "metadata": {},
   "source": [
    "Your task is to identify the most central actor in an actor network, but you are not sure which centrality measure to use. So you will try three of them: degree, betweenness, closeness. \n",
    "\n",
    "The data we use was derived from the IMDB movie database for the 2005 Graph Drawing conference. We will use a reduced version of this dataset, using actor-actor collaboration edges where the actors co-starred in at least two movies together between 1995 and 2004. This data has 17,577 actors and 287,074 connections."
   ]
  },
  {
   "cell_type": "markdown",
   "metadata": {},
   "source": [
    "![title](imdb_actors.png)"
   ]
  },
  {
   "cell_type": "markdown",
   "metadata": {},
   "source": [
    "### Notes: \n",
    "* **Runtime**: Computations for this problem will take several minutes to run, so please start early.\n",
    "* **Libraries**: You may use available NetworkX functions. \n",
    "* **Comments**: Comment your code to receive maximum credit.\n",
    "* **Number of Cells**: Do not change the number of (code or markdown) cells in this notebook. "
   ]
  },
  {
   "cell_type": "markdown",
   "metadata": {},
   "source": [
    "### (a) Largest connected component (5%)\n",
    "Start by loading the data provided in `imdb_edges.csv` and compute the largest connected component (*LCC*) of the actor network. \n",
    "\n",
    "(i) **Your Program Below:** "
   ]
  },
  {
   "cell_type": "code",
   "execution_count": null,
   "metadata": {},
   "outputs": [],
   "source": []
  },
  {
   "cell_type": "markdown",
   "metadata": {},
   "source": [
    "(ii) How many actors and how many connections are in the *LCC*?\n",
    "\n",
    "**Answer:**"
   ]
  },
  {
   "cell_type": "markdown",
   "metadata": {},
   "source": []
  },
  {
   "cell_type": "markdown",
   "metadata": {},
   "source": [
    "### (b) Degree centrality (15%)"
   ]
  },
  {
   "cell_type": "markdown",
   "metadata": {},
   "source": [
    "Compute the degree centrality for all actors in the *LCC* and list the 20 actors with the highest degree. To be able to analyze the list, it will be useful to extract some meta-data for the retrieved actors from the `imdb_actors.csv`."
   ]
  },
  {
   "cell_type": "markdown",
   "metadata": {},
   "source": [
    "(i) **Your Program Below:**"
   ]
  },
  {
   "cell_type": "code",
   "execution_count": null,
   "metadata": {},
   "outputs": [],
   "source": []
  },
  {
   "cell_type": "markdown",
   "metadata": {},
   "source": [
    "(ii) Add the (hardcoded) list to the following cell using markdown formatting (https://guides.github.com/features/mastering-markdown/). \n",
    "\n",
    "**Answer:**"
   ]
  },
  {
   "cell_type": "markdown",
   "metadata": {},
   "source": []
  },
  {
   "cell_type": "markdown",
   "metadata": {},
   "source": [
    "Here is an example on how to type a table (double-click on the cell to view the markdown): \n",
    "\n",
    "Actor | # movies | Degree centrality | Main genre\n",
    "------------ | ------------- | ------------- | -------------\n",
    "Angelina Jolie  | 42 | 987 | Drama\n",
    "Leonardo DiCaprio | 77 | 654 | Drama"
   ]
  },
  {
   "cell_type": "markdown",
   "metadata": {},
   "source": [
    "(iii) Considering the number of movies made by these actors vs. others, briefly (2--4 sentences) explain their high degree. Add your explanation to the following cell.\n",
    "\n",
    "**Answer:**"
   ]
  },
  {
   "cell_type": "markdown",
   "metadata": {},
   "source": []
  },
  {
   "cell_type": "markdown",
   "metadata": {},
   "source": [
    "### (c) Betweenness centrality (15%)"
   ]
  },
  {
   "cell_type": "markdown",
   "metadata": {},
   "source": [
    "Compute the betweenness centrality for all actors in the *LCC* and list the 20 actors with the highest betweenness. "
   ]
  },
  {
   "cell_type": "markdown",
   "metadata": {},
   "source": [
    "(i) **Your Program Below:**"
   ]
  },
  {
   "cell_type": "code",
   "execution_count": null,
   "metadata": {},
   "outputs": [],
   "source": []
  },
  {
   "cell_type": "markdown",
   "metadata": {},
   "source": [
    "(ii) Add the (hardcoded) list to the following cell. Again, inlcude any meta-data you deem useful.  \n",
    "\n",
    "**Answer:**"
   ]
  },
  {
   "cell_type": "markdown",
   "metadata": {},
   "source": []
  },
  {
   "cell_type": "markdown",
   "metadata": {},
   "source": [
    "(iii) Only a couple of actors with top degree centrality remain on this list. Considering the distribution of genres these actors acted in, briefly (2–4 sentences) explain the discrepancy between degree and betweenness centrality for these actors.\n",
    "\n",
    "**Answer:**"
   ]
  },
  {
   "cell_type": "markdown",
   "metadata": {},
   "source": []
  },
  {
   "cell_type": "markdown",
   "metadata": {},
   "source": [
    "### (d) Closeness centrality (15%)"
   ]
  },
  {
   "cell_type": "markdown",
   "metadata": {},
   "source": [
    "Compute the closeness centrality for all actors in the *LCC* and list the 20 actors with the highest closeness. "
   ]
  },
  {
   "cell_type": "markdown",
   "metadata": {},
   "source": [
    "(i) **Your Program Below:**"
   ]
  },
  {
   "cell_type": "code",
   "execution_count": null,
   "metadata": {},
   "outputs": [],
   "source": []
  },
  {
   "cell_type": "markdown",
   "metadata": {},
   "source": [
    "(ii) Add the (hardcoded) list to the following cell. Again, inlcude any meta-data you deem useful.  \n",
    "\n",
    "**Answer:**"
   ]
  },
  {
   "cell_type": "markdown",
   "metadata": {},
   "source": []
  },
  {
   "cell_type": "markdown",
   "metadata": {},
   "source": [
    "(iii)  Using the figure above, briefly (2–4 sentences) explain why the actors with top closeness tend to overlap so little with the two previous lists. Note that the figure shows a large pink “documentary\" clump where many of the high closeness actors are located. It’s a bit puzzling, but many of these high closeness actors do seem to have been involved in documentary serials or “the making of\" documentaries. We’ve excluded “Documentary\" and “Short\" from being candidates for an actor’s main genre, but have used them to color the figure (e.g. Tom Hanks and Whoopi Goldberg are somehow in over 30 documentaries during the time span of the dataset).\n",
    "\n",
    "**Answer:**"
   ]
  },
  {
   "cell_type": "markdown",
   "metadata": {},
   "source": []
  },
  {
   "cell_type": "markdown",
   "metadata": {},
   "source": [
    "*Make sure you did not change the number of cells in this notebook!*"
   ]
  }
 ],
 "metadata": {
  "kernelspec": {
   "display_name": "Python 3",
   "language": "python",
   "name": "python3"
  },
  "language_info": {
   "codemirror_mode": {
    "name": "ipython",
    "version": 3
   },
   "file_extension": ".py",
   "mimetype": "text/x-python",
   "name": "python",
   "nbconvert_exporter": "python",
   "pygments_lexer": "ipython3",
   "version": "3.7.0"
  }
 },
 "nbformat": 4,
 "nbformat_minor": 2
}
