{
 "cells": [
  {
   "cell_type": "markdown",
   "metadata": {},
   "source": [
    "# Homework 3\n",
    "Name: Yushu Liu\n",
    "\n",
    "Wustlkey: yushu.liu \n",
    "\n",
    "Partner Name:\n",
    "\n",
    "Partner Wustlkey:"
   ]
  },
  {
   "cell_type": "markdown",
   "metadata": {},
   "source": [
    "### Notes and Submission Instructions:  \n",
    "* **Libraries**: You may use available NetworkX functions. \n",
    "* **Comments**: Comment your code to receive maximum credit.\n",
    "* **Number of Cells**: Do not change the number of (code or markdown) cells in this notebook.\n",
    "* **What to submit**: Only submit the hw3_problem3.ipynb - nothing else. "
   ]
  },
  {
   "cell_type": "markdown",
   "metadata": {},
   "source": [
    "## Problem 3: Power Laws - Empirical Study (50%)\n",
    "\n",
    "For someone new to the field of network analysis it might be rather surprising that the degree\n",
    "distributions of real world networks almost always follows a power-law distribution.\n",
    "Here are a couple of examples:\n",
    "<img src=\"powerDistributions.jpeg\" width=\"500\">\n",
    "So, one task in studying real world (social) networks is to figure out if the degree distribution follows a power-law and if so, to estimate the exponent α (In fact, in the early 2000s that was _all_ you needed to to do to publish a paper!! See references in the lecture slides.).  In this problem, you will generate a synthetic dataset following a power-law distribution to test various methods for **estimating the exponent** of the distribution."
   ]
  },
  {
   "cell_type": "markdown",
   "metadata": {},
   "source": [
    "### 3.1 Inverse CCDF (pen & paper - 5%)\n",
    "You can generate a random sample from the power-law distribution using a uniform random sample $u ∼ U[0, 1]$ (which you can generate using the pseudo random number generator in Python) and a technique called _inverse transform sampling_. Inverse transform sampling works as follows:\n",
    "- Take your uniform samples u\n",
    "- Compute the value k such that $P(X ≥ k) = u$, where we use the CCDF from problem 2. \n",
    "\n",
    "> Note that k does indeed follow the power-law distribution P(k). \n",
    "> This is given by the __probability integral transform__:\n",
    "> If X is a continuous random variable with cumulative distribution function $F_{X}$, then\n",
    "> the random variable $Y = F_{X}(x)$ has a uniform distribution on [0, 1].\n",
    "\n",
    "Derive the inverse of the CCDF in dependency of u. Remember that you can type Latex in the markdown box below. \n",
    "\n",
    "**Answer:**"
   ]
  },
  {
   "cell_type": "markdown",
   "metadata": {},
   "source": [
    "$$P(X\\ge k) = (\\frac{k}{k_{min}})^{(-\\alpha+1)}=u$$\n",
    "$$k=k_{min}u^{\\frac{1}{-\\alpha+1}}$$"
   ]
  },
  {
   "cell_type": "markdown",
   "metadata": {},
   "source": [
    "### 3.2 Create Synthetic Data (8%)\n",
    "#### (i) __[Sampling]__\n",
    "Below, using this sampling technique, create a dataset of 10,000 samples\n",
    "following the power-law distribution with exponent $α = 2$ and $k_{min} = 1$. \n",
    "\n",
    "__Your Program Below:__"
   ]
  },
  {
   "cell_type": "code",
   "execution_count": 49,
   "metadata": {},
   "outputs": [],
   "source": [
    "import os \n",
    "import numpy as np\n",
    "import matplotlib.pyplot as plt\n",
    "from collections import Counter\n",
    "\n",
    "# define a function generate random sample using power law\n",
    "def generate(num_samples, k_min, alpha):\n",
    "    return k_min * (1 - np.random.uniform(size=num_samples))**(1 / (1 - alpha))\n",
    "\n",
    "np.random.seed(0)\n",
    "\n",
    "#Generate sample using definde function\n",
    "sample = generate(10000, 1, 2)"
   ]
  },
  {
   "cell_type": "markdown",
   "metadata": {},
   "source": [
    "#### (ii) __[Plot]__\n",
    "Plot the empirical distribution on a log-log scale by first rounding each sample to the nearest\n",
    "integer and then plotting the empirical distribution over these rounded values. Add a plot of the true probability density function for the power law (this will help you verify that you generated the data correctly). Label the axes and add a legend and title to your plot. \n",
    "\n",
    "__Your Program Below:__"
   ]
  },
  {
   "cell_type": "code",
   "execution_count": 50,
   "metadata": {},
   "outputs": [
    {
     "data": {
      "image/png": "[encoded data removed]",
      "text/plain": [
       "<Figure size 432x288 with 1 Axes>"
      ]
     },
     "metadata": {},
     "output_type": "display_data"
    }
   ],
   "source": [
    "#Round sample to nearest integer\n",
    "rounded_sample = np.around(sample)\n",
    "\n",
    "#Convert to plot\n",
    "XY = sorted(zip(Counter(rounded_sample).keys(), Counter(rounded_sample).values()))\n",
    "X,Y = zip(*XY)\n",
    "logX, logY = np.log10(X), np.log10(Y)\n",
    "\n",
    "#Compute for true probabiliy\n",
    "trueX = np.arange(1, max(X))\n",
    "trueY = np.maximum(10000 * (2 - 1) / 1 * (trueX / 1)**(-2), 1)\n",
    "\n",
    "#plot on log scale\n",
    "plt.loglog(X,Y)\n",
    "plt.loglog(trueX, trueY)\n",
    "plt.legend([\"Empirical Distribution\", \"True Distribution\"])\n",
    "plt.title(\"Empirical and Theoretical Power Law Distribution \")\n",
    "plt.xlabel(\"Log Sample Value\")\n",
    "plt.ylabel(\"Log Count of Samples\")\n",
    "plt.show()"
   ]
  },
  {
   "cell_type": "markdown",
   "metadata": {},
   "source": [
    "### 3.3 PDF (18%)\n",
    "One way to fit a power-law distribution to data is through a _least-squares linear\n",
    "regression_ on the histogram of the data. Least-squares regression assumes a linear\n",
    "dependency $y = mx + c$ and solves the following equation:\n",
    "\n",
    "$\\begin{bmatrix}\\hat{m}\\\\\\hat{c}\\end{bmatrix} = \\underset{m,c}{\\operatorname{argmin}}\\lVert \\mathbf{y-X\\begin{bmatrix}{m}\\\\{c}\\end{bmatrix}} \\rVert^{2}$\n",
    "\n",
    "Where:\n",
    "\n",
    "$ X = \\begin{bmatrix}x_{1} & 1 \\\\ x_{2} & 1 \\\\ \\vdots & \\vdots \\\\ x_{n} & 1\\end{bmatrix}  \\in \\mathbb{R}^{n \\times 2} $ and $ y = \\begin{bmatrix}y_{1} \\\\ y_{2} \\\\ \\vdots \\\\ y_{n} \\end{bmatrix} \\in \\mathbb{R}^{n}$ where $n$ is the number of samples in your dataset."
   ]
  },
  {
   "cell_type": "markdown",
   "metadata": {},
   "source": [
    "#### (i) __[Pen and Paper]__\n",
    "Using the PDF derived in problem 2, show how to set up a linear least-squares\n",
    "problem for estimating α from the histogram data (empirical PDF).\n",
    "\n",
    "__Your Answer Below:__"
   ]
  },
  {
   "cell_type": "markdown",
   "metadata": {},
   "source": [
    "Since for $\\alpha = 2$ and $x_{min} = 1$, the PDF can be written as:\n",
    "$$P(x) = (\\alpha - 1)d^{-\\alpha}$$\n",
    "taking log would result in: \n",
    "$$log (P(x)) = -\\alpha log({x}) + log(\\alpha -1) $$\n",
    "Then perform a linear regression with formula $y = ax + b$ on $y = log (P(x))$ and $x = log({x})$, $a$ will then be the unbiased estimate of $-\\alpha$."
   ]
  },
  {
   "cell_type": "markdown",
   "metadata": {},
   "source": [
    "#### (ii) __[Implementation]__\n",
    "Compute the least-squares estimate $\\hat{α}$ of $α$ using the dataset generated in the\n",
    "previous part. Again, round your samples to the nearest integer to compute\n",
    "the histogram of the data. (You can use numpy.linalg.lstsq to solve the least\n",
    "squares problem.)\n",
    "\n",
    "__Your Code Below:__"
   ]
  },
  {
   "cell_type": "code",
   "execution_count": 77,
   "metadata": {},
   "outputs": [
    {
     "name": "stdout",
     "output_type": "stream",
     "text": [
      "-0.7772832156316375 2.0750376952226475\n"
     ]
    }
   ],
   "source": [
    "#fit linear regression\n",
    "res = np.polyfit(logX, logY, 1)\n",
    "a1, b1 = res[0], res[1]\n",
    "Estimated_Y_pdf = np.maximum(10**(a1 * np.log10(trueX) + b1), 1)\n",
    "alpha = -a1\n",
    "\n",
    "alpha"
   ]
  },
  {
   "cell_type": "markdown",
   "metadata": {},
   "source": [
    "#### (iii) [Plot]\n",
    "Create a new plot adding the estimated PDF to the empirical data and the true PDF. Label the axes and add a legend and title to your plot. \n",
    "\n",
    "__Your Code Below:__"
   ]
  },
  {
   "cell_type": "code",
   "execution_count": 52,
   "metadata": {},
   "outputs": [
    {
     "data": {
      "image/png": "[encoded data removed]",
      "text/plain": [
       "<Figure size 432x288 with 1 Axes>"
      ]
     },
     "metadata": {},
     "output_type": "display_data"
    }
   ],
   "source": [
    "plt.loglog(X,Y)\n",
    "plt.loglog(trueX, trueY)\n",
    "plt.loglog(trueX, Estimated_Y_pdf)\n",
    "plt.legend([\"Empirical Distribution\", \"True Distribution\", \"Least Square PDF fit\"])\n",
    "plt.title(\"Empirical and Theoretical Power Law Distribution \")\n",
    "plt.xlabel(\"Log Sample Value\")\n",
    "plt.ylabel(\"Log Count of Samples\")\n",
    "plt.show()"
   ]
  },
  {
   "cell_type": "markdown",
   "metadata": {},
   "source": [
    "#### (iv) [Analysis] \n",
    " Why does this method produce a bad fit (estimate for $α$)?\n",
    " \n",
    "__Your Answer Below:__"
   ]
  },
  {
   "cell_type": "markdown",
   "metadata": {},
   "source": [
    "There are lots of sample value has counts 1 or extremly counts (outliers).If using pdf, when converting to log scale, it will result in lots of zeros and lead to biased estimate of alpha. "
   ]
  },
  {
   "cell_type": "markdown",
   "metadata": {},
   "source": [
    "### 3.4 CCDF (14%)\n",
    "Using the same data as in the previous parts, estimate α using the CCDF on the rounded data."
   ]
  },
  {
   "cell_type": "markdown",
   "metadata": {},
   "source": [
    "#### (i) [Pen and Paper]\n",
    "Similar to part (c), show how to set up a linear least-squares problem for estimating\n",
    "$α$ from the empirical CCDF.\n",
    "\n",
    "__Your Answer Below:__"
   ]
  },
  {
   "cell_type": "markdown",
   "metadata": {},
   "source": [
    "Since the CCDF can be written as:\n",
    "$$P(D_{v} \\geq d) = \\frac{d}{d_{min}}^{-(\\alpha -1)}$$\n",
    "taking log would result in: \n",
    "$$log (P(D_{v} \\geq d)) = -(\\alpha - 1) log(\\frac{d}{d_{min}})$$\n",
    "Then perform a linear regression with formula $y = ax + b$ on $y = log (P(D_{v} \\geq d)$ and $x = log(\\frac{d}{d_{min}})$, $a$ will then be the unbiased estimate of $-(\\alpha - 1)$. "
   ]
  },
  {
   "cell_type": "markdown",
   "metadata": {},
   "source": [
    "#### (ii) [Implementation]\n",
    "Compute the least-squares estimate $\\hat{α}_{CCDF}$ for CCDF and report the estimate for\n",
    "the PDF exponent $\\hat{α}_2$.\n",
    "\n",
    "> **Notation:** We use _hats_ to represent estimates of the true exponent (that is actually\n",
    "unobserved for real networks). We use _subscripts_ (1,2,3) to refer the the\n",
    "differnt methods we explore to estimate the exponent from the empirical data: 1=PDF, 2=CCDF, 3=MLE. \n",
    "<br>**Math:** We can get $α = {α}_{CCDF} +1$, where ${α}_{CCDF}$ is the exponent of the CCDF and $α$ is the exponent of the PDF."
   ]
  },
  {
   "cell_type": "markdown",
   "metadata": {},
   "source": [
    "__Your Code Below:__"
   ]
  },
  {
   "cell_type": "code",
   "execution_count": 91,
   "metadata": {},
   "outputs": [],
   "source": [
    "#define a function to generate ccdf\n",
    "def gen_ccdf(data,N):\n",
    "    counter = Counter(data)\n",
    "    cum = 0\n",
    "    ccdf = {}\n",
    "    for x in sorted(counter.keys(),reverse=True):\n",
    "        cum += counter[x]\n",
    "        ccdf[x] = cum/N\n",
    "    x,y = zip(*(ccdf.items()))\n",
    "    return np.array(x),np.array(y)\n",
    "\n",
    "X_ccdf, Y_ccdf = gen_ccdf(sample, 10000)\n",
    "\n",
    "#find slope of fit   \n",
    "res_1 = np.polyfit(np.log(X_ccdf),np.log(Y_ccdf), 1)\n",
    "a2 = res_1[0]\n",
    "alpha_2 = -a2+1\n",
    "#compute Y for next question\n",
    "Estimated_Y_cdf  = np.maximum(10000 * (alpha_2 - 1) /1 * (trueX / 1)**(-alpha_2), 1)\n",
    "\n",
    "#print(alpha_2, a2, b2)"
   ]
  },
  {
   "cell_type": "markdown",
   "metadata": {},
   "source": [
    "#### (iii) [Plot]\n",
    " Create a new plot adding the newly estimated PDF to the empirical data and the\n",
    "true PDF and add it to your written submission. Label the axes and add a legend and title to your plot. "
   ]
  },
  {
   "cell_type": "markdown",
   "metadata": {},
   "source": [
    "__Your Code Below:__"
   ]
  },
  {
   "cell_type": "code",
   "execution_count": 79,
   "metadata": {},
   "outputs": [
    {
     "data": {
      "image/png": "[encoded data removed]",
      "text/plain": [
       "<Figure size 432x288 with 1 Axes>"
      ]
     },
     "metadata": {},
     "output_type": "display_data"
    }
   ],
   "source": [
    "#plot all pdf \n",
    "plt.loglog(X,Y)\n",
    "plt.loglog(trueX, trueY)\n",
    "plt.loglog(trueX, Estimated_Y_pdf)\n",
    "plt.loglog(trueX, Estimated_Y_cdf)\n",
    "plt.legend([\"Empirical Distribution\", \"True Distribution\", \"Least Square PDF fit\", \"Least Square CDF fit\"])\n",
    "plt.title(\"Empirical and Theoretical Power Law Distribution \")\n",
    "plt.xlabel(\"Log Sample Value\")\n",
    "plt.ylabel(\"Log Count of Samples\")\n",
    "plt.show()"
   ]
  },
  {
   "cell_type": "markdown",
   "metadata": {},
   "source": [
    "### 3.5 Comparison (5%)\n",
    "Generate 50-100 datasets of 10,000 samples each following the procedure in part 3.2. For each dataset, compute the estimates $\\hat{α}_{1}$ and $\\hat{α}_{2}$. Report the sample mean and standard deviation of each estimate as well as the number of sampled datasets used and argue which method estimates the true α best.\n"
   ]
  },
  {
   "cell_type": "markdown",
   "metadata": {},
   "source": [
    "__Your Code Below:__"
   ]
  },
  {
   "cell_type": "code",
   "execution_count": 90,
   "metadata": {},
   "outputs": [
    {
     "name": "stdout",
     "output_type": "stream",
     "text": [
      "Mean of alpha_1 is:  0.9413156113272578 , SD of alpha_1 is:  0.08827761060111111\n",
      "Mean of alpha_2 is:  1.991298959851394 , SD of alpha_1 is:  0.06589429702140025\n"
     ]
    }
   ],
   "source": [
    "def pdf_fit(sample):\n",
    "    XY = sorted(zip(Counter(sample).keys(), Counter(sample).values()))\n",
    "    X,Y = zip(*XY)\n",
    "    logX, logY = np.log10(X), np.log10(Y)\n",
    "    res = np.polyfit(logX, logY, 1)\n",
    "    a1, b1 = res[0], res[1]\n",
    "    alpha = -a1\n",
    "    return alpha\n",
    "    \n",
    "def ccdf_fit(X, Y):\n",
    "    res_1 = np.polyfit(np.log(X_ccdf),np.log(Y_ccdf), 1)\n",
    "    a2 = res_1[0]\n",
    "    alpha_2 = -a2+1\n",
    "    return alpha_2\n",
    "n = 0  \n",
    "L_a1 = []\n",
    "L_a2 = []\n",
    "while n < 100:\n",
    "    S = np.around(generate(10000, 1, 2))\n",
    "    L_a1.append(pdf_fit(S))\n",
    "    #print(pdf_fit(sample))\n",
    "    X_ccdf, Y_ccdf = gen_ccdf(S, 10000)\n",
    "    L_a2.append(ccdf_fit(X_ccdf, Y_ccdf))\n",
    "    n = n + 1\n",
    "\n",
    "print(\"Mean of alpha_1 is: \", np.mean(L_a1), \", SD of alpha_1 is: \", np.std(L_a1))\n",
    "print(\"Mean of alpha_2 is: \", np.mean(L_a2), \", SD of alpha_1 is: \", np.std(L_a2))   \n",
    "    \n",
    "        "
   ]
  },
  {
   "cell_type": "markdown",
   "metadata": {},
   "source": [
    "__Your Answer Below:__"
   ]
  },
  {
   "cell_type": "markdown",
   "metadata": {},
   "source": [
    "Mean of alpha_1 is:  0.9413156113272578 , SD of alpha_1 is:  0.08827761060111111\n",
    "Mean of alpha_2 is:  1.991298959851394 , SD of alpha_1 is:  0.06589429702140025\n",
    "\n",
    "The regression using CCDF is obvious better since the mean is closer to the actual alpha used to generate data and the standard deviation is smaller (more accurate and precise). "
   ]
  },
  {
   "cell_type": "markdown",
   "metadata": {},
   "source": [
    "### BONUS: MLE (no credit)\n",
    "> This section is for _fun_ only and not for credit... "
   ]
  },
  {
   "cell_type": "markdown",
   "metadata": {},
   "source": [
    "#### (i) MLE Estimation and Plot\n",
    "Derive the maximum likelihood estimate $\\hat{α}_{3}$ of $α$ (assume that $k_{min} = 1$). Use the\n",
    "same dataset generated in part 2.2. Make the same plot as in the previous parts now\n",
    "showing the estimated probability distribution you got from this approach along wiht the data and the true PDF. Find\n",
    "a description of this approach in Power-law Distributions in Empirical Data (Appendix\n",
    "B): https://www.cse.wustl.edu/~m.neumann/fl2018/cse416/powerlaw_clauset2009.pdf.\n",
    "\n",
    "Label the axes and add a legend and title to your plot. "
   ]
  },
  {
   "cell_type": "markdown",
   "metadata": {},
   "source": [
    "__Your Code Below:__"
   ]
  },
  {
   "cell_type": "code",
   "execution_count": 5,
   "metadata": {},
   "outputs": [
    {
     "data": {
      "text/plain": [
       "'Your Code Goes Here'"
      ]
     },
     "execution_count": 5,
     "metadata": {},
     "output_type": "execute_result"
    }
   ],
   "source": [
    "\"Your Code Goes Here\""
   ]
  },
  {
   "cell_type": "markdown",
   "metadata": {},
   "source": [
    "#### (ii) Grand Comparison\n",
    "Repeat the process of the previous part for 50-100 sampled datasets to get a mean estimate and standard deviation using the MLE method and compare it to your results from 3.5.\n",
    "\n",
    "__Your Code Below:__"
   ]
  },
  {
   "cell_type": "code",
   "execution_count": 6,
   "metadata": {},
   "outputs": [
    {
     "data": {
      "text/plain": [
       "'Your Code Goes Here'"
      ]
     },
     "execution_count": 6,
     "metadata": {},
     "output_type": "execute_result"
    }
   ],
   "source": [
    "\"Your Code Goes Here\""
   ]
  },
  {
   "cell_type": "markdown",
   "metadata": {},
   "source": [
    "__Your Answer Below:__"
   ]
  },
  {
   "cell_type": "markdown",
   "metadata": {},
   "source": []
  }
 ],
 "metadata": {
  "kernelspec": {
   "display_name": "Python 3",
   "language": "python",
   "name": "python3"
  },
  "language_info": {
   "codemirror_mode": {
    "name": "ipython",
    "version": 3
   },
   "file_extension": ".py",
   "mimetype": "text/x-python",
   "name": "python",
   "nbconvert_exporter": "python",
   "pygments_lexer": "ipython3",
   "version": "3.6.6"
  }
 },
 "nbformat": 4,
 "nbformat_minor": 2
}
