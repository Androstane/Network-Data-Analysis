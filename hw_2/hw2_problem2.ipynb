{
 "cells": [
  {
   "cell_type": "markdown",
   "metadata": {},
   "source": [
    "# Homework 2\n",
    "## Problem 2: Create and Analyze a Network of Entities and Officers (40%)"
   ]
  },
  {
   "cell_type": "markdown",
   "metadata": {},
   "source": [
    "The Panama Papers represent a massive leak of offshore corporate entity information (several hundred thousand entities) from the Panamanian law firm Mossack Fonseca. The papers unveil a never-before-seen network of money-laundering connections. In this assignment, you will convert a huge CSV file describing connections between entities and officials into a social network. You will also learn how to make simple conclusions about the resulting network."
   ]
  },
  {
   "cell_type": "markdown",
   "metadata": {},
   "source": [
    "The “Panama” network is a social network that describes relationships between organizations and individuals traced through electronic documentation. The network is available in five CSV files `panama_papers.edges.csv`, `panama_papers.nodes.address.csv`, `panama_papers.nodes.entity.csv`, `panama_papers.nodes.intermediary.csv`, and `panama_papers.nodes.officer.csv`.\n",
    "\n",
    "<img src=\"panama.png\" width=\"500\">\n",
    "\n",
    "### Notes: \n",
    "* **Book**: Checkout [CNA] Chapter 9.  \n",
    "* **Libraries**: You may use available NetworkX functions. \n",
    "* **Comments**: Comment your code to receive maximum credit.\n",
    "* **Number of Cells**: Do not change the number of (code or markdown) cells in this notebook. \n",
    "\n"
   ]
  },
  {
   "cell_type": "markdown",
   "metadata": {},
   "source": [
    "### 2.1 Create the Network (10%)\n",
    "(i) First partially build this vast network. Select only the edges that refer to the “beneficiary-of” relationship (there are 19,194 edges labeled `Beneficiary of` and `beneficiary of`). \n",
    "\n",
    "Remember that when you add an edge to a network, NetworkX also adds both incident nodes. However, at the moment, the nodes have only more or less randomly chosen labels—and no attributes. Let’s import the attributes and true names from the other three files.\n",
    "\n",
    "Then, you need to go through the node files for entities, officers, and intermediaries and search for the node information. For each node, you will store its name, type, and a three-letter country code. The first code block should import all the necessary modules and define the constants.\n",
    "\n",
    "The purpose of the node dictionary is to facilitate future lookup. (Python lists have linear lookup time.) Read each of the files with a CSV dictionary reader and extract and collect the desired attributes. Note that there is no need to process rows that do not match any existing node (because your network does not include all nodes and edges) and add any nodes to the graph (because they have been already added by way of the incident edges). When done, update the node attributes \"country\" and \"kind\", and relabel the nodes to match persons and organizations names.\n",
    "\n",
    "\n",
    "**Your Program Below:** "
   ]
  },
  {
   "cell_type": "code",
   "execution_count": 3,
   "metadata": {},
   "outputs": [
    {
     "name": "stderr",
     "output_type": "stream",
     "text": [
      "C:\\Users\\eveli\\Anaconda3\\lib\\site-packages\\IPython\\core\\interactiveshell.py:2717: DtypeWarning: Columns (4,5) have mixed types. Specify dtype option on import or set low_memory=False.\n",
      "  interactivity=interactivity, compiler=compiler, result=result)\n",
      "C:\\Users\\eveli\\Anaconda3\\lib\\site-packages\\IPython\\core\\interactiveshell.py:2717: DtypeWarning: Columns (16) have mixed types. Specify dtype option on import or set low_memory=False.\n",
      "  interactivity=interactivity, compiler=compiler, result=result)\n",
      "C:\\Users\\eveli\\Anaconda3\\lib\\site-packages\\IPython\\core\\interactiveshell.py:2717: DtypeWarning: Columns (0,7,8,9,10,11) have mixed types. Specify dtype option on import or set low_memory=False.\n",
      "  interactivity=interactivity, compiler=compiler, result=result)\n"
     ]
    }
   ],
   "source": [
    "#import requried pacakges\n",
    "import pandas as pd\n",
    "import networkx as nx\n",
    "\n",
    "#Read edges from csv\n",
    "edges = pd.read_csv(\"panama_papers.edges.csv\")\n",
    "edges = edges.filter(items=['START_ID', 'link', 'END_ID'])\n",
    "edges = edges[edges[\"link\"]==\"beneficiary of\"]\n",
    "\n",
    "#Read entities from csv\n",
    "enti = pd.read_csv(\"panama_papers.nodes.entity.csv\")\n",
    "enti = enti.filter(items = [\"node_id\", \"name\", \"country_codes\"])\n",
    "enti[\"kind\"] = \"entity\"\n",
    "\n",
    "#Read officers from csv\n",
    "off = pd.read_csv(\"panama_papers.nodes.officer.csv\", sep=\",\")\n",
    "off = off.filter(items=[\"node_id\", \"name\", \"country_codes\"])\n",
    "off[\"kind\"] = \"officier\"\n",
    "\n",
    "\n",
    "#Read intermediaries from csv\n",
    "inte = pd.read_csv(\"panama_papers.nodes.intermediary.csv\", sep=\",\")\n",
    "inte = inte.filter(items=[\"node_id\", \"name\", \"country_codes\"])\n",
    "inte[\"kind\"] = \"intermediaries\"\n",
    "\n",
    "#create a dataframe with all information\n",
    "info = [enti, off, inte]\n",
    "info = pd.concat(info)\n",
    "info = info.set_index(\"node_id\")\n",
    "name = info.filter(items = [\"node_id\", \"name\"])\n",
    "info = info.to_dict(orient='index')\n",
    "name = dict(zip(name.index, name.name))\n",
    "\n",
    "#build graph from edgelist \n",
    "#testing, to be deleted \n",
    "#Add name as attribute to prevent mixing from relabel\n",
    "G = nx.from_pandas_edgelist(edges, source='START_ID', target='END_ID', edge_attr=\"link\")\n",
    "nx.set_node_attributes(G, info)"
   ]
  },
  {
   "cell_type": "markdown",
   "metadata": {},
   "source": [
    "### 2.2 Plot the Network (5%)\n",
    "Plot the graph so that nodes are painted by their kind: Entities are lightly colored, and Officers are dark. Use netwrokX or matplotlib.\n",
    "\n",
    "**Your Program Below:** "
   ]
  },
  {
   "cell_type": "code",
   "execution_count": 277,
   "metadata": {},
   "outputs": [
    {
     "ename": "KeyboardInterrupt",
     "evalue": "",
     "output_type": "error",
     "traceback": [
      "\u001b[1;31m---------------------------------------------------------------------------\u001b[0m",
      "\u001b[1;31mKeyboardInterrupt\u001b[0m                         Traceback (most recent call last)",
      "\u001b[1;32mC:\\Users\\eveli\\Anaconda3\\lib\\site-packages\\networkx\\drawing\\layout.py\u001b[0m in \u001b[0;36mfruchterman_reingold_layout\u001b[1;34m(G, k, pos, fixed, iterations, threshold, weight, scale, center, dim, random_state)\u001b[0m\n\u001b[0;32m    352\u001b[0m                                            \u001b[0miterations\u001b[0m\u001b[1;33m,\u001b[0m \u001b[0mthreshold\u001b[0m\u001b[1;33m,\u001b[0m\u001b[1;33m\u001b[0m\u001b[0m\n\u001b[1;32m--> 353\u001b[1;33m                                            dim, random_state)\n\u001b[0m\u001b[0;32m    354\u001b[0m     \u001b[1;32mexcept\u001b[0m\u001b[1;33m:\u001b[0m\u001b[1;33m\u001b[0m\u001b[0m\n",
      "\u001b[1;32m<decorator-gen-598>\u001b[0m in \u001b[0;36m_sparse_fruchterman_reingold\u001b[1;34m(A, k, pos, fixed, iterations, threshold, dim, random_state)\u001b[0m\n",
      "\u001b[1;32mC:\\Users\\eveli\\Anaconda3\\lib\\site-packages\\networkx\\utils\\decorators.py\u001b[0m in \u001b[0;36m_random_state\u001b[1;34m(func, *args, **kwargs)\u001b[0m\n\u001b[0;32m    386\u001b[0m         \u001b[0mnew_args\u001b[0m\u001b[1;33m[\u001b[0m\u001b[0mrandom_state_index\u001b[0m\u001b[1;33m]\u001b[0m \u001b[1;33m=\u001b[0m \u001b[0mrandom_state_instance\u001b[0m\u001b[1;33m\u001b[0m\u001b[0m\n\u001b[1;32m--> 387\u001b[1;33m         \u001b[1;32mreturn\u001b[0m \u001b[0mfunc\u001b[0m\u001b[1;33m(\u001b[0m\u001b[1;33m*\u001b[0m\u001b[0mnew_args\u001b[0m\u001b[1;33m,\u001b[0m \u001b[1;33m**\u001b[0m\u001b[0mkwargs\u001b[0m\u001b[1;33m)\u001b[0m\u001b[1;33m\u001b[0m\u001b[0m\n\u001b[0m\u001b[0;32m    388\u001b[0m     \u001b[1;32mreturn\u001b[0m \u001b[0m_random_state\u001b[0m\u001b[1;33m\u001b[0m\u001b[0m\n",
      "\u001b[1;32mC:\\Users\\eveli\\Anaconda3\\lib\\site-packages\\networkx\\drawing\\layout.py\u001b[0m in \u001b[0;36m_sparse_fruchterman_reingold\u001b[1;34m(A, k, pos, fixed, iterations, threshold, dim, random_state)\u001b[0m\n\u001b[0;32m    505\u001b[0m             \u001b[0mdisplacement\u001b[0m\u001b[1;33m[\u001b[0m\u001b[1;33m:\u001b[0m\u001b[1;33m,\u001b[0m \u001b[0mi\u001b[0m\u001b[1;33m]\u001b[0m \u001b[1;33m+=\u001b[0m\u001b[0;31m\\\u001b[0m\u001b[1;33m\u001b[0m\u001b[0m\n\u001b[1;32m--> 506\u001b[1;33m                 \u001b[1;33m(\u001b[0m\u001b[0mdelta\u001b[0m \u001b[1;33m*\u001b[0m \u001b[1;33m(\u001b[0m\u001b[0mk\u001b[0m \u001b[1;33m*\u001b[0m \u001b[0mk\u001b[0m \u001b[1;33m/\u001b[0m \u001b[0mdistance\u001b[0m\u001b[1;33m**\u001b[0m\u001b[1;36m2\u001b[0m \u001b[1;33m-\u001b[0m \u001b[0mAi\u001b[0m \u001b[1;33m*\u001b[0m \u001b[0mdistance\u001b[0m \u001b[1;33m/\u001b[0m \u001b[0mk\u001b[0m\u001b[1;33m)\u001b[0m\u001b[1;33m)\u001b[0m\u001b[1;33m.\u001b[0m\u001b[0msum\u001b[0m\u001b[1;33m(\u001b[0m\u001b[0maxis\u001b[0m\u001b[1;33m=\u001b[0m\u001b[1;36m1\u001b[0m\u001b[1;33m)\u001b[0m\u001b[1;33m\u001b[0m\u001b[0m\n\u001b[0m\u001b[0;32m    507\u001b[0m         \u001b[1;31m# update positions\u001b[0m\u001b[1;33m\u001b[0m\u001b[1;33m\u001b[0m\u001b[0m\n",
      "\u001b[1;32mC:\\Users\\eveli\\Anaconda3\\lib\\site-packages\\numpy\\core\\_methods.py\u001b[0m in \u001b[0;36m_sum\u001b[1;34m(a, axis, dtype, out, keepdims)\u001b[0m\n\u001b[0;32m     31\u001b[0m \u001b[1;32mdef\u001b[0m \u001b[0m_sum\u001b[0m\u001b[1;33m(\u001b[0m\u001b[0ma\u001b[0m\u001b[1;33m,\u001b[0m \u001b[0maxis\u001b[0m\u001b[1;33m=\u001b[0m\u001b[1;32mNone\u001b[0m\u001b[1;33m,\u001b[0m \u001b[0mdtype\u001b[0m\u001b[1;33m=\u001b[0m\u001b[1;32mNone\u001b[0m\u001b[1;33m,\u001b[0m \u001b[0mout\u001b[0m\u001b[1;33m=\u001b[0m\u001b[1;32mNone\u001b[0m\u001b[1;33m,\u001b[0m \u001b[0mkeepdims\u001b[0m\u001b[1;33m=\u001b[0m\u001b[1;32mFalse\u001b[0m\u001b[1;33m)\u001b[0m\u001b[1;33m:\u001b[0m\u001b[1;33m\u001b[0m\u001b[0m\n\u001b[1;32m---> 32\u001b[1;33m     \u001b[1;32mreturn\u001b[0m \u001b[0mumr_sum\u001b[0m\u001b[1;33m(\u001b[0m\u001b[0ma\u001b[0m\u001b[1;33m,\u001b[0m \u001b[0maxis\u001b[0m\u001b[1;33m,\u001b[0m \u001b[0mdtype\u001b[0m\u001b[1;33m,\u001b[0m \u001b[0mout\u001b[0m\u001b[1;33m,\u001b[0m \u001b[0mkeepdims\u001b[0m\u001b[1;33m)\u001b[0m\u001b[1;33m\u001b[0m\u001b[0m\n\u001b[0m\u001b[0;32m     33\u001b[0m \u001b[1;33m\u001b[0m\u001b[0m\n",
      "\u001b[1;31mKeyboardInterrupt\u001b[0m: ",
      "\nDuring handling of the above exception, another exception occurred:\n",
      "\u001b[1;31mKeyboardInterrupt\u001b[0m                         Traceback (most recent call last)",
      "\u001b[1;32m<ipython-input-277-990577a785c5>\u001b[0m in \u001b[0;36m<module>\u001b[1;34m()\u001b[0m\n\u001b[0;32m      1\u001b[0m \u001b[0mmaster_nodes\u001b[0m \u001b[1;33m=\u001b[0m \u001b[1;33m[\u001b[0m\u001b[0mn\u001b[0m \u001b[1;32mfor\u001b[0m \u001b[1;33m(\u001b[0m\u001b[0mn\u001b[0m\u001b[1;33m,\u001b[0m\u001b[0mty\u001b[0m\u001b[1;33m)\u001b[0m \u001b[1;32min\u001b[0m \u001b[0mnx\u001b[0m\u001b[1;33m.\u001b[0m\u001b[0mget_node_attributes\u001b[0m\u001b[1;33m(\u001b[0m\u001b[0mG\u001b[0m\u001b[1;33m,\u001b[0m\u001b[1;34m'kind'\u001b[0m\u001b[1;33m)\u001b[0m\u001b[1;33m.\u001b[0m\u001b[0mitems\u001b[0m\u001b[1;33m(\u001b[0m\u001b[1;33m)\u001b[0m \u001b[1;32mif\u001b[0m \u001b[0mkind\u001b[0m \u001b[1;33m==\u001b[0m \u001b[1;34m'officier'\u001b[0m\u001b[1;33m]\u001b[0m\u001b[1;33m\u001b[0m\u001b[0m\n\u001b[0;32m      2\u001b[0m \u001b[0mdoc_nodes\u001b[0m \u001b[1;33m=\u001b[0m \u001b[1;33m[\u001b[0m\u001b[0mn\u001b[0m \u001b[1;32mfor\u001b[0m \u001b[1;33m(\u001b[0m\u001b[0mn\u001b[0m\u001b[1;33m,\u001b[0m\u001b[0mty\u001b[0m\u001b[1;33m)\u001b[0m \u001b[1;32min\u001b[0m \u001b[0mnx\u001b[0m\u001b[1;33m.\u001b[0m\u001b[0mget_node_attributes\u001b[0m\u001b[1;33m(\u001b[0m\u001b[0mG\u001b[0m\u001b[1;33m,\u001b[0m\u001b[1;34m'kind'\u001b[0m\u001b[1;33m)\u001b[0m\u001b[1;33m.\u001b[0m\u001b[0mitems\u001b[0m\u001b[1;33m(\u001b[0m\u001b[1;33m)\u001b[0m \u001b[1;32mif\u001b[0m \u001b[0mkind\u001b[0m \u001b[1;33m==\u001b[0m \u001b[1;34m'entity'\u001b[0m\u001b[1;33m]\u001b[0m\u001b[1;33m\u001b[0m\u001b[0m\n\u001b[1;32m----> 3\u001b[1;33m \u001b[0mpos\u001b[0m \u001b[1;33m=\u001b[0m \u001b[0mnx\u001b[0m\u001b[1;33m.\u001b[0m\u001b[0mspring_layout\u001b[0m\u001b[1;33m(\u001b[0m\u001b[0mG\u001b[0m\u001b[1;33m)\u001b[0m\u001b[1;33m\u001b[0m\u001b[0m\n\u001b[0m\u001b[0;32m      4\u001b[0m \u001b[0mnx\u001b[0m\u001b[1;33m.\u001b[0m\u001b[0mdraw_networkx_nodes\u001b[0m\u001b[1;33m(\u001b[0m\u001b[0mG\u001b[0m\u001b[1;33m,\u001b[0m \u001b[0mpos\u001b[0m\u001b[1;33m,\u001b[0m \u001b[0mnodelist\u001b[0m\u001b[1;33m=\u001b[0m\u001b[0mmaster_nodes\u001b[0m\u001b[1;33m,\u001b[0m \u001b[0mnode_color\u001b[0m\u001b[1;33m=\u001b[0m\u001b[1;34m'red'\u001b[0m\u001b[1;33m,\u001b[0m \u001b[0mnode_shape\u001b[0m\u001b[1;33m=\u001b[0m\u001b[1;34m'o'\u001b[0m\u001b[1;33m)\u001b[0m\u001b[1;33m\u001b[0m\u001b[0m\n\u001b[0;32m      5\u001b[0m \u001b[0mnx\u001b[0m\u001b[1;33m.\u001b[0m\u001b[0mdraw_networkx_nodes\u001b[0m\u001b[1;33m(\u001b[0m\u001b[0mG\u001b[0m\u001b[1;33m,\u001b[0m \u001b[0mpos\u001b[0m\u001b[1;33m,\u001b[0m \u001b[0mnodelist\u001b[0m\u001b[1;33m=\u001b[0m\u001b[0mdoc_nodes\u001b[0m\u001b[1;33m,\u001b[0m \u001b[0mnode_color\u001b[0m\u001b[1;33m=\u001b[0m\u001b[1;34m'blue'\u001b[0m\u001b[1;33m,\u001b[0m \u001b[0mnode_shape\u001b[0m\u001b[1;33m=\u001b[0m\u001b[1;34m'o'\u001b[0m\u001b[1;33m)\u001b[0m\u001b[1;33m\u001b[0m\u001b[0m\n",
      "\u001b[1;32m<decorator-gen-594>\u001b[0m in \u001b[0;36mfruchterman_reingold_layout\u001b[1;34m(G, k, pos, fixed, iterations, threshold, weight, scale, center, dim, random_state)\u001b[0m\n",
      "\u001b[1;32mC:\\Users\\eveli\\Anaconda3\\lib\\site-packages\\networkx\\utils\\decorators.py\u001b[0m in \u001b[0;36m_random_state\u001b[1;34m(func, *args, **kwargs)\u001b[0m\n\u001b[0;32m    385\u001b[0m         \u001b[0mnew_args\u001b[0m \u001b[1;33m=\u001b[0m \u001b[0mlist\u001b[0m\u001b[1;33m(\u001b[0m\u001b[0margs\u001b[0m\u001b[1;33m)\u001b[0m\u001b[1;33m\u001b[0m\u001b[0m\n\u001b[0;32m    386\u001b[0m         \u001b[0mnew_args\u001b[0m\u001b[1;33m[\u001b[0m\u001b[0mrandom_state_index\u001b[0m\u001b[1;33m]\u001b[0m \u001b[1;33m=\u001b[0m \u001b[0mrandom_state_instance\u001b[0m\u001b[1;33m\u001b[0m\u001b[0m\n\u001b[1;32m--> 387\u001b[1;33m         \u001b[1;32mreturn\u001b[0m \u001b[0mfunc\u001b[0m\u001b[1;33m(\u001b[0m\u001b[1;33m*\u001b[0m\u001b[0mnew_args\u001b[0m\u001b[1;33m,\u001b[0m \u001b[1;33m**\u001b[0m\u001b[0mkwargs\u001b[0m\u001b[1;33m)\u001b[0m\u001b[1;33m\u001b[0m\u001b[0m\n\u001b[0m\u001b[0;32m    388\u001b[0m     \u001b[1;32mreturn\u001b[0m \u001b[0m_random_state\u001b[0m\u001b[1;33m\u001b[0m\u001b[0m\n",
      "\u001b[1;32mC:\\Users\\eveli\\Anaconda3\\lib\\site-packages\\networkx\\drawing\\layout.py\u001b[0m in \u001b[0;36mfruchterman_reingold_layout\u001b[1;34m(G, k, pos, fixed, iterations, threshold, weight, scale, center, dim, random_state)\u001b[0m\n\u001b[0;32m    359\u001b[0m             \u001b[0mk\u001b[0m \u001b[1;33m=\u001b[0m \u001b[0mdom_size\u001b[0m \u001b[1;33m/\u001b[0m \u001b[0mnp\u001b[0m\u001b[1;33m.\u001b[0m\u001b[0msqrt\u001b[0m\u001b[1;33m(\u001b[0m\u001b[0mnnodes\u001b[0m\u001b[1;33m)\u001b[0m\u001b[1;33m\u001b[0m\u001b[0m\n\u001b[0;32m    360\u001b[0m         pos = _fruchterman_reingold(A, k, pos_arr, fixed, iterations,\n\u001b[1;32m--> 361\u001b[1;33m                                     threshold, dim, random_state)\n\u001b[0m\u001b[0;32m    362\u001b[0m     \u001b[1;32mif\u001b[0m \u001b[0mfixed\u001b[0m \u001b[1;32mis\u001b[0m \u001b[1;32mNone\u001b[0m\u001b[1;33m:\u001b[0m\u001b[1;33m\u001b[0m\u001b[0m\n\u001b[0;32m    363\u001b[0m         \u001b[0mpos\u001b[0m \u001b[1;33m=\u001b[0m \u001b[0mrescale_layout\u001b[0m\u001b[1;33m(\u001b[0m\u001b[0mpos\u001b[0m\u001b[1;33m,\u001b[0m \u001b[0mscale\u001b[0m\u001b[1;33m=\u001b[0m\u001b[0mscale\u001b[0m\u001b[1;33m)\u001b[0m \u001b[1;33m+\u001b[0m \u001b[0mcenter\u001b[0m\u001b[1;33m\u001b[0m\u001b[0m\n",
      "\u001b[1;32m<decorator-gen-596>\u001b[0m in \u001b[0;36m_fruchterman_reingold\u001b[1;34m(A, k, pos, fixed, iterations, threshold, dim, random_state)\u001b[0m\n",
      "\u001b[1;32mC:\\Users\\eveli\\Anaconda3\\lib\\site-packages\\networkx\\utils\\decorators.py\u001b[0m in \u001b[0;36m_random_state\u001b[1;34m(func, *args, **kwargs)\u001b[0m\n\u001b[0;32m    385\u001b[0m         \u001b[0mnew_args\u001b[0m \u001b[1;33m=\u001b[0m \u001b[0mlist\u001b[0m\u001b[1;33m(\u001b[0m\u001b[0margs\u001b[0m\u001b[1;33m)\u001b[0m\u001b[1;33m\u001b[0m\u001b[0m\n\u001b[0;32m    386\u001b[0m         \u001b[0mnew_args\u001b[0m\u001b[1;33m[\u001b[0m\u001b[0mrandom_state_index\u001b[0m\u001b[1;33m]\u001b[0m \u001b[1;33m=\u001b[0m \u001b[0mrandom_state_instance\u001b[0m\u001b[1;33m\u001b[0m\u001b[0m\n\u001b[1;32m--> 387\u001b[1;33m         \u001b[1;32mreturn\u001b[0m \u001b[0mfunc\u001b[0m\u001b[1;33m(\u001b[0m\u001b[1;33m*\u001b[0m\u001b[0mnew_args\u001b[0m\u001b[1;33m,\u001b[0m \u001b[1;33m**\u001b[0m\u001b[0mkwargs\u001b[0m\u001b[1;33m)\u001b[0m\u001b[1;33m\u001b[0m\u001b[0m\n\u001b[0m\u001b[0;32m    388\u001b[0m     \u001b[1;32mreturn\u001b[0m \u001b[0m_random_state\u001b[0m\u001b[1;33m\u001b[0m\u001b[0m\n",
      "\u001b[1;32mC:\\Users\\eveli\\Anaconda3\\lib\\site-packages\\networkx\\drawing\\layout.py\u001b[0m in \u001b[0;36m_fruchterman_reingold\u001b[1;34m(A, k, pos, fixed, iterations, threshold, dim, random_state)\u001b[0m\n\u001b[0;32m    415\u001b[0m         \u001b[0mdelta\u001b[0m \u001b[1;33m=\u001b[0m \u001b[0mpos\u001b[0m\u001b[1;33m[\u001b[0m\u001b[1;33m:\u001b[0m\u001b[1;33m,\u001b[0m \u001b[0mnp\u001b[0m\u001b[1;33m.\u001b[0m\u001b[0mnewaxis\u001b[0m\u001b[1;33m,\u001b[0m \u001b[1;33m:\u001b[0m\u001b[1;33m]\u001b[0m \u001b[1;33m-\u001b[0m \u001b[0mpos\u001b[0m\u001b[1;33m[\u001b[0m\u001b[0mnp\u001b[0m\u001b[1;33m.\u001b[0m\u001b[0mnewaxis\u001b[0m\u001b[1;33m,\u001b[0m \u001b[1;33m:\u001b[0m\u001b[1;33m,\u001b[0m \u001b[1;33m:\u001b[0m\u001b[1;33m]\u001b[0m\u001b[1;33m\u001b[0m\u001b[0m\n\u001b[0;32m    416\u001b[0m         \u001b[1;31m# distance between points\u001b[0m\u001b[1;33m\u001b[0m\u001b[1;33m\u001b[0m\u001b[0m\n\u001b[1;32m--> 417\u001b[1;33m         \u001b[0mdistance\u001b[0m \u001b[1;33m=\u001b[0m \u001b[0mnp\u001b[0m\u001b[1;33m.\u001b[0m\u001b[0mlinalg\u001b[0m\u001b[1;33m.\u001b[0m\u001b[0mnorm\u001b[0m\u001b[1;33m(\u001b[0m\u001b[0mdelta\u001b[0m\u001b[1;33m,\u001b[0m \u001b[0maxis\u001b[0m\u001b[1;33m=\u001b[0m\u001b[1;33m-\u001b[0m\u001b[1;36m1\u001b[0m\u001b[1;33m)\u001b[0m\u001b[1;33m\u001b[0m\u001b[0m\n\u001b[0m\u001b[0;32m    418\u001b[0m         \u001b[1;31m# enforce minimum distance of 0.01\u001b[0m\u001b[1;33m\u001b[0m\u001b[1;33m\u001b[0m\u001b[0m\n\u001b[0;32m    419\u001b[0m         \u001b[0mnp\u001b[0m\u001b[1;33m.\u001b[0m\u001b[0mclip\u001b[0m\u001b[1;33m(\u001b[0m\u001b[0mdistance\u001b[0m\u001b[1;33m,\u001b[0m \u001b[1;36m0.01\u001b[0m\u001b[1;33m,\u001b[0m \u001b[1;32mNone\u001b[0m\u001b[1;33m,\u001b[0m \u001b[0mout\u001b[0m\u001b[1;33m=\u001b[0m\u001b[0mdistance\u001b[0m\u001b[1;33m)\u001b[0m\u001b[1;33m\u001b[0m\u001b[0m\n",
      "\u001b[1;32mC:\\Users\\eveli\\Anaconda3\\lib\\site-packages\\numpy\\linalg\\linalg.py\u001b[0m in \u001b[0;36mnorm\u001b[1;34m(x, ord, axis, keepdims)\u001b[0m\n\u001b[0;32m   2285\u001b[0m             \u001b[1;31m# special case for speedup\u001b[0m\u001b[1;33m\u001b[0m\u001b[1;33m\u001b[0m\u001b[0m\n\u001b[0;32m   2286\u001b[0m             \u001b[0ms\u001b[0m \u001b[1;33m=\u001b[0m \u001b[1;33m(\u001b[0m\u001b[0mx\u001b[0m\u001b[1;33m.\u001b[0m\u001b[0mconj\u001b[0m\u001b[1;33m(\u001b[0m\u001b[1;33m)\u001b[0m \u001b[1;33m*\u001b[0m \u001b[0mx\u001b[0m\u001b[1;33m)\u001b[0m\u001b[1;33m.\u001b[0m\u001b[0mreal\u001b[0m\u001b[1;33m\u001b[0m\u001b[0m\n\u001b[1;32m-> 2287\u001b[1;33m             \u001b[1;32mreturn\u001b[0m \u001b[0msqrt\u001b[0m\u001b[1;33m(\u001b[0m\u001b[0madd\u001b[0m\u001b[1;33m.\u001b[0m\u001b[0mreduce\u001b[0m\u001b[1;33m(\u001b[0m\u001b[0ms\u001b[0m\u001b[1;33m,\u001b[0m \u001b[0maxis\u001b[0m\u001b[1;33m=\u001b[0m\u001b[0maxis\u001b[0m\u001b[1;33m,\u001b[0m \u001b[0mkeepdims\u001b[0m\u001b[1;33m=\u001b[0m\u001b[0mkeepdims\u001b[0m\u001b[1;33m)\u001b[0m\u001b[1;33m)\u001b[0m\u001b[1;33m\u001b[0m\u001b[0m\n\u001b[0m\u001b[0;32m   2288\u001b[0m         \u001b[1;32melse\u001b[0m\u001b[1;33m:\u001b[0m\u001b[1;33m\u001b[0m\u001b[0m\n\u001b[0;32m   2289\u001b[0m             \u001b[1;32mtry\u001b[0m\u001b[1;33m:\u001b[0m\u001b[1;33m\u001b[0m\u001b[0m\n",
      "\u001b[1;31mKeyboardInterrupt\u001b[0m: "
     ]
    }
   ],
   "source": [
    "#select node with attribute officier and entity seperately \n",
    "master_nodes = [n for (n,ty) in nx.get_node_attributes(G,'kind').items() if kind == 'officier']\n",
    "doc_nodes = [n for (n,ty) in nx.get_node_attributes(G,'kind').items() if kind == 'entity']\n",
    "pos = nx.spring_layout(G)\n",
    "\n",
    "#draw offcier with black and entities with red\n",
    "nx.draw_networkx_nodes(G, pos, nodelist=master_nodes, node_color='black', node_shape='o')\n",
    "nx.draw_networkx_nodes(G, pos, nodelist=doc_nodes, node_color='red', node_shape='o')\n",
    "\n",
    "#draw edges\n",
    "nx.draw_networkx_edges(G,pos,width=1.0,alpha=0.5)"
   ]
  },
  {
   "cell_type": "markdown",
   "metadata": {},
   "source": [
    "### 2.3 Analyze the Network: Degree Distribution (10%)\n",
    "(i) Compute the degree distribution and plot it using log-log scale.\n",
    "\n",
    "**Your Program Below:** "
   ]
  },
  {
   "cell_type": "code",
   "execution_count": 10,
   "metadata": {},
   "outputs": [
    {
     "data": {
      "image/png": "[encoded data removed]",
      "text/plain": [
       "<Figure size 432x288 with 1 Axes>"
      ]
     },
     "metadata": {},
     "output_type": "display_data"
    }
   ],
   "source": [
    "from matplotlib import pyplot as plt\n",
    "import collections\n",
    "import math\n",
    "degree_sequence = sorted([d for n, d in G.degree()], reverse=True)\n",
    "degreeCount = collections.Counter(degree_sequence)\n",
    "deg, cnt = zip(*degreeCount.items())\n",
    "fig, ax = plt.subplots()\n",
    "deg_l = []\n",
    "cnt_l = []\n",
    "for i in range(len(deg)):\n",
    "    deg_l.append(math.log(deg[i]))\n",
    "    cnt_l.append(math.log(cnt[i]))\n",
    "    \n",
    "plt.plot(deg_l, cnt_l, color='b')\n",
    "\n",
    "plt.title(\"Degree Histogram\")\n",
    "plt.ylabel(\"Count\")\n",
    "plt.xlabel(\"Degree\")\n",
    "plt.show()"
   ]
  },
  {
   "cell_type": "markdown",
   "metadata": {},
   "source": [
    "(ii) Describe the degree distribution and what it means in the context of the panama paper scandal. \n",
    "\n",
    "**Answer:**"
   ]
  },
  {
   "cell_type": "markdown",
   "metadata": {},
   "source": [
    "It seems that the degree destribution is a straght line with some noise. The count decreases with degree which suggests, in the panama paper scandal context, there are a small amount of people/organization invloved in most transactions. And most of people/organizations have only a small number of connection, but to those involved in most transaction. "
   ]
  },
  {
   "cell_type": "markdown",
   "metadata": {},
   "source": [
    "(iii) Find the top ten nodes with highest degree. Print out their attributes in a nicely formatted way.\n",
    "\n",
    "**Your Program Below:** "
   ]
  },
  {
   "cell_type": "code",
   "execution_count": 11,
   "metadata": {},
   "outputs": [
    {
     "data": {
      "text/html": [
       "<div>\n",
       "<style>\n",
       "    .dataframe thead tr:only-child th {\n",
       "        text-align: right;\n",
       "    }\n",
       "\n",
       "    .dataframe thead th {\n",
       "        text-align: left;\n",
       "    }\n",
       "\n",
       "    .dataframe tbody tr th {\n",
       "        vertical-align: top;\n",
       "    }\n",
       "</style>\n",
       "<table border=\"1\" class=\"dataframe\">\n",
       "  <thead>\n",
       "    <tr style=\"text-align: right;\">\n",
       "      <th></th>\n",
       "      <th>Node</th>\n",
       "      <th>Degree</th>\n",
       "      <th>name</th>\n",
       "      <th>kind</th>\n",
       "      <th>country_code</th>\n",
       "    </tr>\n",
       "  </thead>\n",
       "  <tbody>\n",
       "    <tr>\n",
       "      <th>0</th>\n",
       "      <td>13007669</td>\n",
       "      <td>80</td>\n",
       "      <td>HELITING S.A.</td>\n",
       "      <td>officier</td>\n",
       "      <td>CHE</td>\n",
       "    </tr>\n",
       "    <tr>\n",
       "      <th>1</th>\n",
       "      <td>13000657</td>\n",
       "      <td>29</td>\n",
       "      <td>GUANGZHOU CONSTRUCTION &amp; DEVELOPMENT HOLDINGS ...</td>\n",
       "      <td>officier</td>\n",
       "      <td>VGB</td>\n",
       "    </tr>\n",
       "    <tr>\n",
       "      <th>2</th>\n",
       "      <td>13001034</td>\n",
       "      <td>26</td>\n",
       "      <td>MR. OLEKSII MYKOLAYOVYCH AZAROV</td>\n",
       "      <td>officier</td>\n",
       "      <td>AUT</td>\n",
       "    </tr>\n",
       "    <tr>\n",
       "      <th>3</th>\n",
       "      <td>13009140</td>\n",
       "      <td>25</td>\n",
       "      <td>SURFWAVE FOUNDATION (Daniel Steinmetz Daniela ...</td>\n",
       "      <td>officier</td>\n",
       "      <td>LIE</td>\n",
       "    </tr>\n",
       "    <tr>\n",
       "      <th>4</th>\n",
       "      <td>13000681</td>\n",
       "      <td>25</td>\n",
       "      <td>Zamaria Foundation (Daniel Steinmetz Daniela S...</td>\n",
       "      <td>officier</td>\n",
       "      <td>LIE</td>\n",
       "    </tr>\n",
       "    <tr>\n",
       "      <th>5</th>\n",
       "      <td>13003621</td>\n",
       "      <td>24</td>\n",
       "      <td>Rosa María Campollo de García</td>\n",
       "      <td>officier</td>\n",
       "      <td>GTM</td>\n",
       "    </tr>\n",
       "    <tr>\n",
       "      <th>6</th>\n",
       "      <td>13003761</td>\n",
       "      <td>24</td>\n",
       "      <td>Mark Omelnitski</td>\n",
       "      <td>officier</td>\n",
       "      <td>GBR</td>\n",
       "    </tr>\n",
       "    <tr>\n",
       "      <th>7</th>\n",
       "      <td>13004294</td>\n",
       "      <td>24</td>\n",
       "      <td>María Eugenia Campollo de Bonifasi</td>\n",
       "      <td>officier</td>\n",
       "      <td>GTM</td>\n",
       "    </tr>\n",
       "    <tr>\n",
       "      <th>8</th>\n",
       "      <td>13000088</td>\n",
       "      <td>23</td>\n",
       "      <td>Ramón Campollo Codina</td>\n",
       "      <td>officier</td>\n",
       "      <td>GTM</td>\n",
       "    </tr>\n",
       "    <tr>\n",
       "      <th>9</th>\n",
       "      <td>13007469</td>\n",
       "      <td>23</td>\n",
       "      <td>LAM  KWONG-WAI</td>\n",
       "      <td>officier</td>\n",
       "      <td>HKG</td>\n",
       "    </tr>\n",
       "  </tbody>\n",
       "</table>\n",
       "</div>"
      ],
      "text/plain": [
       "       Node Degree                                               name  \\\n",
       "0  13007669     80                                      HELITING S.A.   \n",
       "1  13000657     29  GUANGZHOU CONSTRUCTION & DEVELOPMENT HOLDINGS ...   \n",
       "2  13001034     26                    MR. OLEKSII MYKOLAYOVYCH AZAROV   \n",
       "3  13009140     25  SURFWAVE FOUNDATION (Daniel Steinmetz Daniela ...   \n",
       "4  13000681     25  Zamaria Foundation (Daniel Steinmetz Daniela S...   \n",
       "5  13003621     24                      Rosa María Campollo de García   \n",
       "6  13003761     24                                    Mark Omelnitski   \n",
       "7  13004294     24                 María Eugenia Campollo de Bonifasi   \n",
       "8  13000088     23                              Ramón Campollo Codina   \n",
       "9  13007469     23                                     LAM  KWONG-WAI   \n",
       "\n",
       "       kind country_code  \n",
       "0  officier          CHE  \n",
       "1  officier          VGB  \n",
       "2  officier          AUT  \n",
       "3  officier          LIE  \n",
       "4  officier          LIE  \n",
       "5  officier          GTM  \n",
       "6  officier          GBR  \n",
       "7  officier          GTM  \n",
       "8  officier          GTM  \n",
       "9  officier          HKG  "
      ]
     },
     "execution_count": 11,
     "metadata": {},
     "output_type": "execute_result"
    }
   ],
   "source": [
    "sorted_degree = sorted(G.degree, key=lambda x: x[1], reverse=True)\n",
    "sorted_degree = sorted_degree[0:10]\n",
    "col_names =  ['Node', 'Degree', 'name','kind','country_code']\n",
    "newDF = pd.DataFrame(columns = col_names)\n",
    "for i in range(len(sorted_degree)):\n",
    "    node = sorted_degree[i][0]\n",
    "    degree = sorted_degree[i][1]\n",
    "    name = G.node[node]['name']\n",
    "    kind = G.node[node]['kind'] \n",
    "    country_code = G.node[node]['country_codes']\n",
    "    newDF.loc[len(newDF)] = [node, degree, name, kind, country_code]\n",
    "newDF"
   ]
  },
  {
   "cell_type": "markdown",
   "metadata": {},
   "source": [
    "### 2.4 Analyze the Network: Attributes and Assortativity (15%)\n",
    "(i) What are the node attributes in the data and how many classes (categories) do they each have? \n",
    "\n",
    "**Your Program Below:** "
   ]
  },
  {
   "cell_type": "code",
   "execution_count": 6,
   "metadata": {},
   "outputs": [
    {
     "name": "stdout",
     "output_type": "stream",
     "text": [
      "2\n",
      "25\n"
     ]
    }
   ],
   "source": [
    "#find all connected component from original graph \n",
    "subgraph = list(nx.connected_component_subgraphs(G))\n",
    "len(subgraph)\n",
    "L = []\n",
    "\n",
    "#store subgraphs with more than 20 edges or nodes.\n",
    "for i in range(len(subgraph)):\n",
    "    if subgraph[i].size() > 20 or len(subgraph[i])> 20:\n",
    "        L.append(subgraph[i])\n",
    "    else:\n",
    "        pass   \n",
    "#generate a new subgraph of G with all connected components above. \n",
    "U = nx.union_all(L)\n",
    "kind=nx.get_node_attributes(U,'kind')\n",
    "con_code = nx.get_node_attributes(U, 'country_codes')\n",
    "print(len(set(list(kind.values()))))\n",
    "print(len(set(list(con_code.values()))))"
   ]
  },
  {
   "cell_type": "markdown",
   "metadata": {},
   "source": [
    "**Answer:** "
   ]
  },
  {
   "cell_type": "markdown",
   "metadata": {},
   "source": [
    "Node Attributes include: kind, country_codes. \n",
    "kind has 2 categories\n",
    "country_codes has 25 categories"
   ]
  },
  {
   "cell_type": "markdown",
   "metadata": {},
   "source": [
    "(ii) Perform the assortaivity test as discussed in the lecture based on the attribute \"kind\". As this attribute has more than two classes, perform the analysis for pairwise attribute classes.    \n",
    "\n",
    "**Your Program Below:** "
   ]
  },
  {
   "cell_type": "code",
   "execution_count": 7,
   "metadata": {},
   "outputs": [
    {
     "data": {
      "text/plain": [
       "{'entity': {'officier': 809}, 'officier': {'entity': 809}}"
      ]
     },
     "execution_count": 7,
     "metadata": {},
     "output_type": "execute_result"
    }
   ],
   "source": [
    "nx.attribute_mixing_dict(U, 'kind')"
   ]
  },
  {
   "cell_type": "markdown",
   "metadata": {},
   "source": [
    "Based on your findings above, is the network assortaive with respect to the attribute \"kind\"? \n",
    "\n",
    "**Answer:** "
   ]
  },
  {
   "cell_type": "markdown",
   "metadata": {},
   "source": [
    "The netowrk is not assortative since all edges connect two vertices with different type. "
   ]
  },
  {
   "cell_type": "markdown",
   "metadata": {},
   "source": [
    "(iii) How deos NetworkX compute the attribute assortativity coefficient? Describe all variables in your formula. (You can type formulas in latex using the \\$ environment.) \n",
    "\n",
    "**Answer:** "
   ]
  },
  {
   "cell_type": "markdown",
   "metadata": {},
   "source": [
    "The assortativity coefficient is computed as $r = \\frac{Tr(e) - ||e^2||}{1 - ||e^2||}$, where e is a matrix such that $e_{ij}$ is the fraction of edges in a network that connect a vertex of type i to one of type j. "
   ]
  },
  {
   "cell_type": "markdown",
   "metadata": {},
   "source": [
    " Compute the assortativity coefficient of the attribute \"kind\" and the degree assortativity coefficient.\n",
    "\n",
    "**Your Program Below:** "
   ]
  },
  {
   "cell_type": "code",
   "execution_count": 21,
   "metadata": {},
   "outputs": [
    {
     "name": "stdout",
     "output_type": "stream",
     "text": [
      "-0.34093474801878826\n",
      "-1.0\n"
     ]
    }
   ],
   "source": [
    "print(nx.degree_assortativity_coefficient(U))\n",
    "print(nx.attribute_assortativity_coefficient(U,'kind'))"
   ]
  },
  {
   "cell_type": "markdown",
   "metadata": {},
   "source": [
    "Compare the assortativity coefficient of the attribute \"kind\" with the degree assortativity coefficient. What are your conclusions about the money-laundering connections of entities and officers? \n",
    "\n",
    "**Answer:**"
   ]
  },
  {
   "cell_type": "markdown",
   "metadata": {},
   "source": [
    "Compared to assortativity coefficient, the degree assortativity coefficient is higher but still negative, suggesting that the nodes with a higher degree are surrounded, on average, by nodes with a smaller degree, and the other way around. It seems that  officers and entitys connect to only each other and they also tend to connect with organization with different degrees. According to the analysis above, it could be that there are lots of nodes with less degrees are connected to a node with high degress. "
   ]
  }
 ],
 "metadata": {
  "kernelspec": {
   "display_name": "Python 3",
   "language": "python",
   "name": "python3"
  },
  "language_info": {
   "codemirror_mode": {
    "name": "ipython",
    "version": 3
   },
   "file_extension": ".py",
   "mimetype": "text/x-python",
   "name": "python",
   "nbconvert_exporter": "python",
   "pygments_lexer": "ipython3",
   "version": "3.6.6"
  }
 },
 "nbformat": 4,
 "nbformat_minor": 2
}
